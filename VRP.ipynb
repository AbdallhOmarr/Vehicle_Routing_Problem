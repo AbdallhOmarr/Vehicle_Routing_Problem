{
 "cells": [
  {
   "cell_type": "code",
   "execution_count": 1,
   "metadata": {},
   "outputs": [],
   "source": [
    "import pandas as pd\n",
    "import re\n",
    "import math\n",
    "from solver.base_solver import Solver\n",
    "from util.instance_loader import load_instance"
   ]
  },
  {
   "cell_type": "code",
   "execution_count": 2,
   "metadata": {},
   "outputs": [],
   "source": [
    "path='data/r101.txt'"
   ]
  },
  {
   "cell_type": "code",
   "execution_count": 3,
   "metadata": {},
   "outputs": [],
   "source": [
    "time_precision_scaler=100"
   ]
  },
  {
   "cell_type": "code",
   "execution_count": 4,
   "metadata": {},
   "outputs": [],
   "source": [
    "data = load_instance(path,time_precision_scaler)"
   ]
  },
  {
   "cell_type": "code",
   "execution_count": 5,
   "metadata": {},
   "outputs": [],
   "source": [
    "solver = Solver(data,time_precision_scaler)"
   ]
  },
  {
   "cell_type": "code",
   "execution_count": 6,
   "metadata": {},
   "outputs": [],
   "source": [
    "solver.create_model()"
   ]
  },
  {
   "cell_type": "code",
   "execution_count": 7,
   "metadata": {},
   "outputs": [],
   "source": [
    "settings={}\n",
    "settings['time_limit']=360"
   ]
  },
  {
   "cell_type": "code",
   "execution_count": 8,
   "metadata": {},
   "outputs": [],
   "source": [
    "solver.solve_model(settings)"
   ]
  },
  {
   "cell_type": "code",
   "execution_count": 9,
   "metadata": {},
   "outputs": [
    {
     "name": "stdout",
     "output_type": "stream",
     "text": [
      "Solution status: 1\n",
      "\n",
      "Objective: 21657.53\n",
      "\n",
      "Route for vehicle 0:\n",
      "0 -> 62 -> 11 -> 90 -> 20 -> 32 -> 70 -> 0\n",
      "Time of the route: 213.09min\n",
      "Load of vehicle: 66\n",
      "\n",
      "Route for vehicle 1:\n",
      "0 -> 59 -> 99 -> 94 -> 96 -> 0\n",
      "Time of the route: 160.26min\n",
      "Load of vehicle: 64\n",
      "\n",
      "Route for vehicle 2:\n",
      "0 -> 28 -> 29 -> 78 -> 34 -> 35 -> 77 -> 0\n",
      "Time of the route: 208.69min\n",
      "Load of vehicle: 50\n",
      "\n",
      "Route for vehicle 3:\n",
      "0 -> 12 -> 40 -> 53 -> 26 -> 0\n",
      "Time of the route: 153.18min\n",
      "Load of vehicle: 42\n",
      "\n",
      "Route for vehicle 4:\n",
      "0 -> 52 -> 6 -> 0\n",
      "Time of the route: 120.18min\n",
      "Load of vehicle: 9\n",
      "\n",
      "Route for vehicle 5:\n",
      "0 -> 31 -> 88 -> 7 -> 10 -> 0\n",
      "Time of the route: 159.49min\n",
      "Load of vehicle: 41\n",
      "\n",
      "Route for vehicle 6:\n",
      "0 -> 63 -> 64 -> 49 -> 48 -> 0\n",
      "Time of the route: 202.8min\n",
      "Load of vehicle: 49\n",
      "\n",
      "Route for vehicle 7:\n",
      "0 -> 95 -> 98 -> 16 -> 86 -> 91 -> 100 -> 0\n",
      "Time of the route: 219.04min\n",
      "Load of vehicle: 85\n",
      "\n",
      "Route for vehicle 8:\n",
      "0 -> 2 -> 21 -> 73 -> 41 -> 56 -> 74 -> 58 -> 0\n",
      "Time of the route: 219.05min\n",
      "Load of vehicle: 46\n",
      "\n",
      "Route for vehicle 9:\n",
      "0 -> 0\n",
      "Time of the route: 0.0min\n",
      "Load of vehicle: 0\n",
      "\n",
      "Route for vehicle 10:\n",
      "0 -> 45 -> 82 -> 18 -> 84 -> 60 -> 89 -> 0\n",
      "Time of the route: 200.05min\n",
      "Load of vehicle: 54\n",
      "\n",
      "Route for vehicle 11:\n",
      "0 -> 5 -> 83 -> 61 -> 85 -> 37 -> 93 -> 0\n",
      "Time of the route: 218.24min\n",
      "Load of vehicle: 99\n",
      "\n",
      "Route for vehicle 12:\n",
      "0 -> 27 -> 69 -> 76 -> 79 -> 3 -> 68 -> 0\n",
      "Time of the route: 173.37min\n",
      "Load of vehicle: 71\n",
      "\n",
      "Route for vehicle 13:\n",
      "0 -> 36 -> 47 -> 19 -> 8 -> 46 -> 17 -> 0\n",
      "Time of the route: 197.41min\n",
      "Load of vehicle: 59\n",
      "\n",
      "Route for vehicle 14:\n",
      "0 -> 0\n",
      "Time of the route: 0.0min\n",
      "Load of vehicle: 0\n",
      "\n",
      "Route for vehicle 15:\n",
      "0 -> 33 -> 30 -> 51 -> 9 -> 66 -> 1 -> 0\n",
      "Time of the route: 191.36min\n",
      "Load of vehicle: 83\n",
      "\n",
      "Route for vehicle 16:\n",
      "0 -> 65 -> 71 -> 81 -> 50 -> 0\n",
      "Time of the route: 150.97min\n",
      "Load of vehicle: 61\n",
      "\n",
      "Route for vehicle 17:\n",
      "0 -> 39 -> 23 -> 67 -> 55 -> 4 -> 25 -> 0\n",
      "Time of the route: 218.08min\n",
      "Load of vehicle: 106\n",
      "\n",
      "Route for vehicle 18:\n",
      "0 -> 14 -> 44 -> 38 -> 43 -> 13 -> 0\n",
      "Time of the route: 186.26min\n",
      "Load of vehicle: 61\n",
      "\n",
      "Route for vehicle 19:\n",
      "0 -> 92 -> 42 -> 15 -> 87 -> 57 -> 97 -> 0\n",
      "Time of the route: 160.2min\n",
      "Load of vehicle: 48\n",
      "\n",
      "Route for vehicle 20:\n",
      "0 -> 72 -> 75 -> 22 -> 54 -> 24 -> 80 -> 0\n",
      "Time of the route: 213.09min\n",
      "Load of vehicle: 82\n",
      "\n",
      "Route for vehicle 21:\n",
      "0 -> 0\n",
      "Time of the route: 0.0min\n",
      "Load of vehicle: 0\n",
      "\n",
      "Route for vehicle 22:\n",
      "0 -> 0\n",
      "Time of the route: 0.0min\n",
      "Load of vehicle: 0\n",
      "\n",
      "Route for vehicle 23:\n",
      "0 -> 0\n",
      "Time of the route: 0.0min\n",
      "Load of vehicle: 0\n",
      "\n",
      "Route for vehicle 24:\n",
      "0 -> 0\n",
      "Time of the route: 0.0min\n",
      "Load of vehicle: 0\n",
      "\n",
      "Total time of all routes: 3564.8099999999995min\n",
      "Total travel time of all routes: 2564.8099999999995min\n",
      "Total vehicles used: 19\n"
     ]
    }
   ],
   "source": [
    "solver.print_solution()"
   ]
  }
 ],
 "metadata": {
  "kernelspec": {
   "display_name": "Python 3 (ipykernel)",
   "language": "python",
   "name": "python3"
  },
  "language_info": {
   "codemirror_mode": {
    "name": "ipython",
    "version": 3
   },
   "file_extension": ".py",
   "mimetype": "text/x-python",
   "name": "python",
   "nbconvert_exporter": "python",
   "pygments_lexer": "ipython3",
   "version": "3.8.5"
  }
 },
 "nbformat": 4,
 "nbformat_minor": 2
}
