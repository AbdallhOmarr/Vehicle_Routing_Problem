{
 "cells": [
  {
   "cell_type": "code",
   "execution_count": 1,
   "metadata": {},
   "outputs": [],
   "source": [
    "from solver.base_solver import Solver\n",
    "from util.instance_loader import load_instance\n",
    "from utilties import *\n",
    "from plotting import *\n",
    "import re\n"
   ]
  },
  {
   "cell_type": "code",
   "execution_count": 2,
   "metadata": {},
   "outputs": [],
   "source": [
    "results={\n",
    "  \"r\": [\n",
    "    {\n",
    "      \"Instance\": \"R101\",\n",
    "      \"Distance\": 1645.79\n",
    "    },\n",
    "    {\n",
    "      \"Instance\": \"R102\",\n",
    "      \"Distance\": 1486.12\n",
    "    },\n",
    "    {\n",
    "      \"Instance\": \"R103\",\n",
    "      \"Distance\": 1292.68\n",
    "    },\n",
    "    {\n",
    "      \"Instance\": \"R104\",\n",
    "      \"Distance\": 1007.24\n",
    "    },\n",
    "    {\n",
    "      \"Instance\": \"R105\",\n",
    "      \"Distance\": 1377.11\n",
    "    }\n",
    "  ],\n",
    "  \"c\": [\n",
    "    {\n",
    "      \"Instance\": \"C101\",\n",
    "      \"Distance\": 828.94\n",
    "    },\n",
    "    {\n",
    "      \"Instance\": \"C102\",\n",
    "      \"Distance\": 828.94\n",
    "    },\n",
    "    {\n",
    "      \"Instance\": \"C103\",\n",
    "      \"Distance\": 828.06\n",
    "    },\n",
    "    {\n",
    "      \"Instance\": \"C104\",\n",
    "      \"Distance\": 824.78\n",
    "    },\n",
    "    {\n",
    "      \"Instance\": \"C105\",\n",
    "      \"Distance\": 828.94\n",
    "    }\n",
    "  ],\n",
    "  \"rc\": [\n",
    "    {\n",
    "      \"Instance\": \"RC101\",\n",
    "      \"Distance\": 1696.94\n",
    "    },\n",
    "    {\n",
    "      \"Instance\": \"RC102\",\n",
    "      \"Distance\": 1554.75\n",
    "    },\n",
    "    {\n",
    "      \"Instance\": \"RC103\",\n",
    "      \"Distance\": 1261.67\n",
    "    },\n",
    "    {\n",
    "      \"Instance\": \"RC104\",\n",
    "      \"Distance\": 1135.48\n",
    "    },\n",
    "    {\n",
    "      \"Instance\": \"RC105\",\n",
    "      \"Distance\": 1629.44\n",
    "    }\n",
    "  ]\n",
    "}"
   ]
  },
  {
   "cell_type": "code",
   "execution_count": 3,
   "metadata": {},
   "outputs": [],
   "source": [
    "instances = [r'data/r101.txt',r'data/r102.txt',r'data/r103.txt',r'data/r104.txt',r'data/r105.txt',r'data/c101.txt',r'data/c102.txt',r'data/c103.txt',r'data/c104.txt',r'data/c105.txt',r'data/rc101.txt',r'data/rc102.txt',r'data/rc103.txt',r'data/rc104.txt',r'data/rc105.txt',]"
   ]
  },
  {
   "cell_type": "code",
   "execution_count": 4,
   "metadata": {},
   "outputs": [
    {
     "name": "stdout",
     "output_type": "stream",
     "text": [
      "Instance Name:R101, solution distance:1657.07, best known solution:1645.79, deviation of our solution from the best:11.28, percentage deviation:0.69%\n",
      "Instance Name:R102, solution distance:1477.2, best known solution:1486.12, deviation of our solution from the best:-8.92, percentage deviation:-0.6%\n",
      "Instance Name:R103, solution distance:1230.07, best known solution:1292.68, deviation of our solution from the best:-62.61, percentage deviation:-4.84%\n",
      "Instance Name:R104, solution distance:1029.67, best known solution:1007.24, deviation of our solution from the best:22.43, percentage deviation:2.23%\n",
      "Instance Name:R105, solution distance:1394.58, best known solution:1377.11, deviation of our solution from the best:17.47, percentage deviation:1.27%\n",
      "Instance Name:C101, solution distance:828.94, best known solution:828.94, deviation of our solution from the best:-0.0, percentage deviation:-0.0%\n",
      "Instance Name:C102, solution distance:828.94, best known solution:828.94, deviation of our solution from the best:-0.0, percentage deviation:-0.0%\n",
      "Instance Name:C103, solution distance:830.77, best known solution:828.06, deviation of our solution from the best:2.71, percentage deviation:0.33%\n",
      "Instance Name:C104, solution distance:864.22, best known solution:824.78, deviation of our solution from the best:39.44, percentage deviation:4.78%\n",
      "Instance Name:C105, solution distance:828.94, best known solution:828.94, deviation of our solution from the best:-0.0, percentage deviation:-0.0%\n",
      "Instance Name:RC101, solution distance:1662.97, best known solution:1696.94, deviation of our solution from the best:-33.97, percentage deviation:-2.0%\n",
      "Instance Name:RC102, solution distance:1515.7, best known solution:1554.75, deviation of our solution from the best:-39.05, percentage deviation:-2.51%\n",
      "Instance Name:RC103, solution distance:1345.51, best known solution:1261.67, deviation of our solution from the best:83.84, percentage deviation:6.65%\n",
      "Instance Name:RC104, solution distance:1184.9, best known solution:1135.48, deviation of our solution from the best:49.42, percentage deviation:4.35%\n",
      "Instance Name:RC105, solution distance:1622.01, best known solution:1629.44, deviation of our solution from the best:-7.43, percentage deviation:-0.46%\n"
     ]
    }
   ],
   "source": [
    "solutions = []\n",
    "deviations = []\n",
    "for path in instances:\n",
    "    time_precision_scaler=100\n",
    "    data = load_instance(path,time_precision_scaler)\n",
    "    solver = Solver(data,time_precision_scaler)\n",
    "    solver.create_model()\n",
    "\n",
    "    settings={}\n",
    "    settings['time_limit']=60\n",
    "    solver.solve_model(settings)\n",
    "    travel_path = solver.print_solution()\n",
    "    if len(travel_path)>0:\n",
    "        sol = Solution(path, travel_path)\n",
    "        instance_name = path.split('/')[-1].split('.')[0].upper()  # Extract the instance name from the path\n",
    "        n =int( instance_name[-1])-1\n",
    "        result = re.sub(r'\\d+', '', instance_name).lower()\n",
    "        x = (instance_name,sol,sol.calculate_total_distance(),results[result][n][\"Distance\"],sol.calculate_total_distance()-results[result][n][\"Distance\"])\n",
    "        deviations.append(round(((x[2]-x[3])/x[3])*100,2))\n",
    "        print(f\"Instance Name:{x[0]}, solution distance:{round(x[2],2)}, best known solution:{x[3]}, deviation of our solution from the best:{round(x[4],2)}, percentage deviation:{round(((x[2]-x[3])/x[3])*100,2)}%\")\n",
    "        solutions.append(x)\n",
    "    else:\n",
    "        print('no solution found')"
   ]
  },
  {
   "cell_type": "code",
   "execution_count": 5,
   "metadata": {},
   "outputs": [
    {
     "name": "stdout",
     "output_type": "stream",
     "text": [
      "avg deviation = 0.6593333333333333%\n"
     ]
    }
   ],
   "source": [
    "avg_deviation = sum(deviations)/len(deviations)\n",
    "print(f\"avg deviation = {avg_deviation}%\")"
   ]
  },
  {
   "cell_type": "code",
   "execution_count": 6,
   "metadata": {},
   "outputs": [
    {
     "data": {
      "text/plain": [
       "[('R101',\n",
       "  <utilties.Solution at 0x21911c84fa0>,\n",
       "  1657.0715192342363,\n",
       "  1645.79,\n",
       "  11.281519234236384),\n",
       " ('R102',\n",
       "  <utilties.Solution at 0x21911d6df10>,\n",
       "  1477.1997792410064,\n",
       "  1486.12,\n",
       "  -8.920220758993537),\n",
       " ('R103',\n",
       "  <utilties.Solution at 0x21912da8670>,\n",
       "  1230.0671734971643,\n",
       "  1292.68,\n",
       "  -62.61282650283579),\n",
       " ('R104',\n",
       "  <utilties.Solution at 0x21912e0b070>,\n",
       "  1029.6697519715658,\n",
       "  1007.24,\n",
       "  22.429751971565793),\n",
       " ('R105',\n",
       "  <utilties.Solution at 0x21912e647c0>,\n",
       "  1394.5834045415306,\n",
       "  1377.11,\n",
       "  17.473404541530726),\n",
       " ('C101',\n",
       "  <utilties.Solution at 0x21913e9e340>,\n",
       "  828.9368669428343,\n",
       "  828.94,\n",
       "  -0.00313305716576906),\n",
       " ('C102',\n",
       "  <utilties.Solution at 0x21913efcca0>,\n",
       "  828.9368669428343,\n",
       "  828.94,\n",
       "  -0.00313305716576906),\n",
       " ('C103',\n",
       "  <utilties.Solution at 0x21913f61790>,\n",
       "  830.7730394216048,\n",
       "  828.06,\n",
       "  2.71303942160489),\n",
       " ('C104',\n",
       "  <utilties.Solution at 0x21914f8d910>,\n",
       "  864.2211037627737,\n",
       "  824.78,\n",
       "  39.441103762773764),\n",
       " ('C105',\n",
       "  <utilties.Solution at 0x21914ff1070>,\n",
       "  828.9368669428342,\n",
       "  828.94,\n",
       "  -0.0031330571658827466),\n",
       " ('RC101',\n",
       "  <utilties.Solution at 0x21915050940>,\n",
       "  1662.970709101153,\n",
       "  1696.94,\n",
       "  -33.96929089884702),\n",
       " ('RC102',\n",
       "  <utilties.Solution at 0x219150b4a30>,\n",
       "  1515.6969242744728,\n",
       "  1554.75,\n",
       "  -39.05307572552715),\n",
       " ('RC103',\n",
       "  <utilties.Solution at 0x219160dd7f0>,\n",
       "  1345.5104077158262,\n",
       "  1261.67,\n",
       "  83.84040771582613),\n",
       " ('RC104',\n",
       "  <utilties.Solution at 0x21916146880>,\n",
       "  1184.9047302777944,\n",
       "  1135.48,\n",
       "  49.424730277794424),\n",
       " ('RC105',\n",
       "  <utilties.Solution at 0x2191619efd0>,\n",
       "  1622.0135513798323,\n",
       "  1629.44,\n",
       "  -7.4264486201677755)]"
      ]
     },
     "execution_count": 6,
     "metadata": {},
     "output_type": "execute_result"
    }
   ],
   "source": [
    "solutions"
   ]
  },
  {
   "cell_type": "code",
   "execution_count": null,
   "metadata": {},
   "outputs": [],
   "source": []
  },
  {
   "cell_type": "code",
   "execution_count": null,
   "metadata": {},
   "outputs": [],
   "source": []
  }
 ],
 "metadata": {
  "kernelspec": {
   "display_name": "Python 3 (ipykernel)",
   "language": "python",
   "name": "python3"
  },
  "language_info": {
   "codemirror_mode": {
    "name": "ipython",
    "version": 3
   },
   "file_extension": ".py",
   "mimetype": "text/x-python",
   "name": "python",
   "nbconvert_exporter": "python",
   "pygments_lexer": "ipython3",
   "version": "3.8.8"
  }
 },
 "nbformat": 4,
 "nbformat_minor": 2
}
