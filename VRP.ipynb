{
 "cells": [
  {
   "cell_type": "code",
   "execution_count": 1,
   "metadata": {},
   "outputs": [],
   "source": [
    "from solver.base_solver import Solver\n",
    "from util.instance_loader import load_instance\n",
    "from utilties import *\n",
    "from plotting import *\n",
    "import re\n"
   ]
  },
  {
   "cell_type": "code",
   "execution_count": 2,
   "metadata": {},
   "outputs": [],
   "source": [
    "results={\n",
    "  \"r\": [\n",
    "    {\n",
    "      \"Instance\": \"R101\",\n",
    "      \"Distance\": 1645.79\n",
    "    },\n",
    "    {\n",
    "      \"Instance\": \"R102\",\n",
    "      \"Distance\": 1486.12\n",
    "    },\n",
    "    {\n",
    "      \"Instance\": \"R103\",\n",
    "      \"Distance\": 1292.68\n",
    "    },\n",
    "    {\n",
    "      \"Instance\": \"R104\",\n",
    "      \"Distance\": 1007.24\n",
    "    },\n",
    "    {\n",
    "      \"Instance\": \"R105\",\n",
    "      \"Distance\": 1377.11\n",
    "    }\n",
    "  ],\n",
    "  \"c\": [\n",
    "    {\n",
    "      \"Instance\": \"C101\",\n",
    "      \"Distance\": 828.94\n",
    "    },\n",
    "    {\n",
    "      \"Instance\": \"C102\",\n",
    "      \"Distance\": 828.94\n",
    "    },\n",
    "    {\n",
    "      \"Instance\": \"C103\",\n",
    "      \"Distance\": 828.06\n",
    "    },\n",
    "    {\n",
    "      \"Instance\": \"C104\",\n",
    "      \"Distance\": 824.78\n",
    "    },\n",
    "    {\n",
    "      \"Instance\": \"C105\",\n",
    "      \"Distance\": 828.94\n",
    "    }\n",
    "  ],\n",
    "  \"rc\": [\n",
    "    {\n",
    "      \"Instance\": \"RC101\",\n",
    "      \"Distance\": 1696.94\n",
    "    },\n",
    "    {\n",
    "      \"Instance\": \"RC102\",\n",
    "      \"Distance\": 1554.75\n",
    "    },\n",
    "    {\n",
    "      \"Instance\": \"RC103\",\n",
    "      \"Distance\": 1261.67\n",
    "    },\n",
    "    {\n",
    "      \"Instance\": \"RC104\",\n",
    "      \"Distance\": 1135.48\n",
    "    },\n",
    "    {\n",
    "      \"Instance\": \"RC105\",\n",
    "      \"Distance\": 1629.44\n",
    "    }\n",
    "  ]\n",
    "}"
   ]
  },
  {
   "cell_type": "code",
   "execution_count": 3,
   "metadata": {},
   "outputs": [],
   "source": [
    "instances = [r'data/r101.txt',r'data/r102.txt',r'data/r103.txt',r'data/r104.txt',r'data/r105.txt',r'data/c101.txt',r'data/c102.txt',r'data/c103.txt',r'data/c104.txt',r'data/c105.txt',r'data/rc101.txt',r'data/rc102.txt',r'data/rc103.txt',r'data/rc104.txt',r'data/rc105.txt',]"
   ]
  },
  {
   "cell_type": "code",
   "execution_count": 7,
   "metadata": {},
   "outputs": [
    {
     "name": "stdout",
     "output_type": "stream",
     "text": [
      "Instance Name:R101, solution distance:1657.07, best known solution:1645.79, deviation of our solution from the best:11.28, percentage deviation:0.69%\n"
     ]
    }
   ],
   "source": [
    "solutions = []\n",
    "deviations = []\n",
    "for path in instances:\n",
    "    time_precision_scaler=100\n",
    "    data = load_instance(path,time_precision_scaler)\n",
    "    solver = Solver(data,time_precision_scaler)\n",
    "    solver.create_model()\n",
    "\n",
    "    settings={}\n",
    "    settings['time_limit']=60\n",
    "    solver.solve_model(settings)\n",
    "    travel_path = solver.print_solution()\n",
    "    if len(travel_path)>0:\n",
    "        sol = Solution(path, travel_path)\n",
    "        instance_name = path.split('/')[-1].split('.')[0].upper()  # Extract the instance name from the path\n",
    "        n =int( instance_name[-1])-1\n",
    "        result = re.sub(r'\\d+', '', instance_name).lower()\n",
    "        x = (instance_name,sol,sol.calculate_total_distance(),results[result][n][\"Distance\"],sol.calculate_total_distance()-results[result][n][\"Distance\"])\n",
    "        deviations.append(round(((x[2]-x[3])/x[3])*100,2))\n",
    "        print(f\"Instance Name:{x[0]}, solution distance:{round(x[2],2)}, best known solution:{x[3]}, deviation of our solution from the best:{round(x[4],2)}, percentage deviation:{round(((x[2]-x[3])/x[3])*100,2)}%\")\n",
    "        solutions.append(x)\n",
    "    else:\n",
    "        print('no solution found')"
   ]
  },
  {
   "cell_type": "code",
   "execution_count": 8,
   "metadata": {},
   "outputs": [
    {
     "name": "stdout",
     "output_type": "stream",
     "text": [
      "avg deviation = 0.69%\n"
     ]
    }
   ],
   "source": [
    "avg_deviation = sum(deviations)/len(deviations)\n",
    "print(f\"avg deviation = {avg_deviation}%\")"
   ]
  },
  {
   "cell_type": "code",
   "execution_count": 9,
   "metadata": {},
   "outputs": [
    {
     "data": {
      "text/plain": [
       "[('R101',\n",
       "  <utilties.Solution at 0x24cda0a4f40>,\n",
       "  1657.0715192342363,\n",
       "  1645.79,\n",
       "  11.281519234236384)]"
      ]
     },
     "execution_count": 9,
     "metadata": {},
     "output_type": "execute_result"
    }
   ],
   "source": [
    "solutions"
   ]
  },
  {
   "cell_type": "code",
   "execution_count": null,
   "metadata": {},
   "outputs": [],
   "source": []
  },
  {
   "cell_type": "code",
   "execution_count": null,
   "metadata": {},
   "outputs": [],
   "source": []
  }
 ],
 "metadata": {
  "kernelspec": {
   "display_name": "Python 3 (ipykernel)",
   "language": "python",
   "name": "python3"
  },
  "language_info": {
   "codemirror_mode": {
    "name": "ipython",
    "version": 3
   },
   "file_extension": ".py",
   "mimetype": "text/x-python",
   "name": "python",
   "nbconvert_exporter": "python",
   "pygments_lexer": "ipython3",
   "version": "3.8.8"
  }
 },
 "nbformat": 4,
 "nbformat_minor": 2
}
